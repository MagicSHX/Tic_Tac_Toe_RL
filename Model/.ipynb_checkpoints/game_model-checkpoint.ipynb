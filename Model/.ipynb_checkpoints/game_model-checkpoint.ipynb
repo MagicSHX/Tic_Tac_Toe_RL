{
 "cells": [
  {
   "cell_type": "code",
   "execution_count": 26,
   "metadata": {},
   "outputs": [
    {
     "name": "stdout",
     "output_type": "stream",
     "text": [
      "tensor([[1., 1., 1.],\n",
      "        [1., 1., 1.],\n",
      "        [1., 1., 1.]])\n",
      "dsff\n"
     ]
    }
   ],
   "source": [
    "import torch\n",
    "\n",
    "def main():\n",
    "    data_original = [[1,1,1],[1,1,1],[1,1,1]]\n",
    "    torch_tensor = torch.tensor(data_original, dtype=torch.float)\n",
    "    game_a = game_agent(torch_tensor, 0)\n",
    "    print(game_a.restart())\n",
    "\n",
    "\n",
    "\n",
    "class game_agent:\n",
    "    def __init__(self, input_string, status):\n",
    "        self.input_string = input_string\n",
    "        self.status = status\n",
    "    def restart(self):\n",
    "        print(self.input_string)\n",
    "        return('dsff')\n",
    "    def next_action(self):\n",
    "        print('next action')\n",
    "    def result(self):\n",
    "        \n",
    "\n",
    "        \n",
    "        \n",
    "        \n",
    "if __name__ == \"__main__\":\n",
    "    main()"
   ]
  }
 ],
 "metadata": {
  "kernelspec": {
   "display_name": "Python 3",
   "language": "python",
   "name": "python3"
  },
  "language_info": {
   "codemirror_mode": {
    "name": "ipython",
    "version": 3
   },
   "file_extension": ".py",
   "mimetype": "text/x-python",
   "name": "python",
   "nbconvert_exporter": "python",
   "pygments_lexer": "ipython3",
   "version": "3.7.3"
  }
 },
 "nbformat": 4,
 "nbformat_minor": 2
}
